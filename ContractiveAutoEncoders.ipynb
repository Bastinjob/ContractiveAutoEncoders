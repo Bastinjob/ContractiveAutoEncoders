{
 "cells": [
  {
   "cell_type": "code",
   "execution_count": null,
   "metadata": {},
   "outputs": [],
   "source": [
    "import tensorflow as tf"
   ]
  },
  {
   "cell_type": "code",
   "execution_count": null,
   "metadata": {},
   "outputs": [],
   "source": [
    "from tensorflow.examples.tutorials.mnist import input_data"
   ]
  },
  {
   "cell_type": "code",
   "execution_count": null,
   "metadata": {},
   "outputs": [],
   "source": [
    "mnist = input_data.read_data_sets(\"tmp/data\")"
   ]
  },
  {
   "cell_type": "code",
   "execution_count": null,
   "metadata": {},
   "outputs": [],
   "source": [
    "x_test = mnist.test.images\n",
    "y_test = mnist.test.labels"
   ]
  },
  {
   "cell_type": "code",
   "execution_count": null,
   "metadata": {},
   "outputs": [],
   "source": [
    "tf.reset_default_graph()"
   ]
  },
  {
   "cell_type": "code",
   "execution_count": null,
   "metadata": {},
   "outputs": [],
   "source": [
    "with tf.variable_scope('ioMetrics'):\n",
    "    X = tf.placeholder(dtype = tf.float32, name='X', shape = (None, 784))\n",
    "    y = tf.placeholder(dtype = tf.float32, name='y', shape = (None, 784))"
   ]
  },
  {
   "cell_type": "code",
   "execution_count": null,
   "metadata": {},
   "outputs": [],
   "source": [
    "n_hidden1 = 500\n",
    "n_hidden2 = 100\n",
    "n_codings = 20\n",
    "n_hidden3 = n_hidden2\n",
    "n_hidden4 = n_hidden1\n",
    "batch_size = 150\n",
    "n_epochs = 50\n",
    "n_outputs = 784\n",
    "learning_rate = 0.01"
   ]
  },
  {
   "cell_type": "code",
   "execution_count": null,
   "metadata": {},
   "outputs": [],
   "source": [
    "from functools import partial"
   ]
  },
  {
   "cell_type": "code",
   "execution_count": null,
   "metadata": {},
   "outputs": [],
   "source": [
    "create_dense = partial(tf.layers.dense, activation = tf.nn.sigmoid,\n",
    "                       kernel_initializer = tf.contrib.layers.variance_scaling_initializer())"
   ]
  },
  {
   "cell_type": "code",
   "execution_count": null,
   "metadata": {},
   "outputs": [],
   "source": [
    "with tf.variable_scope('Ae'):\n",
    "    hidden1 = create_dense(inputs=X, units = n_hidden1)\n",
    "    hidden2 = create_dense(inputs= hidden1, units = n_hidden2)\n",
    "    codings = create_dense(inputs = hidden2, units = n_codings)\n",
    "    hidden3 = create_dense(inputs = codings, units = n_hidden3)\n",
    "    hidden4 = create_dense(inputs = hidden3, units = n_hidden4)\n",
    "    logits = create_dense(inputs = hidden4, units = n_outputs, activation = None)"
   ]
  },
  {
   "cell_type": "code",
   "execution_count": null,
   "metadata": {},
   "outputs": [],
   "source": [
    "with tf.variable_scope('Loss'):\n",
    "    xentropy = tf.nn.sigmoid_cross_entropy_with_logits(logits = logits, labels=y)\n",
    "    reconstruction_loss = tf.reduce_sum(xentropy)\n",
    "    contractive_loss = tf.reduce_sum(tf.square(tf.gradients(codings, X, stop_gradients = [X])))\n",
    "    loss = reconstruction_loss + contractive_loss"
   ]
  },
  {
   "cell_type": "code",
   "execution_count": null,
   "metadata": {},
   "outputs": [],
   "source": [
    "with tf.variable_scope('Training_op'):\n",
    "    optimizer = tf.train.MomentumOptimizer(momentum=0.9,use_nesterov=True, learning_rate = learning_rate)\n",
    "    training_op = optimizer.minimize(loss)"
   ]
  },
  {
   "cell_type": "code",
   "execution_count": null,
   "metadata": {},
   "outputs": [],
   "source": [
    "with tf.variable_scope('performance'):\n",
    "    predictions = tf.nn.sigmoid(logits)\n",
    "    mse = tf.reduce_mean(tf.square(predictions - y))"
   ]
  },
  {
   "cell_type": "code",
   "execution_count": null,
   "metadata": {
    "scrolled": true
   },
   "outputs": [],
   "source": [
    "init = tf.global_variables_initializer()\n",
    "saver = tf.train.Saver()\n",
    "\n",
    "with tf.Session() as sess:\n",
    "    init.run()\n",
    "    for epoch in range(n_epochs):\n",
    "        for batch_no in range(mnist.train.num_examples//batch_size):\n",
    "            x_train, y_train = mnist.train.next_batch(batch_size)\n",
    "            sess.run(training_op, feed_dict = {X:x_train, y:x_train})\n",
    "        mse_train = mse.eval(feed_dict={X:x_train, y:x_train})\n",
    "        mse_test = mse.eval(feed_dict={X:x_test, y:x_test})\n",
    "        c_loss = contractive_loss.eval(feed_dict = {X:x_test, y:x_test})\n",
    "        print('epoch:', epoch, 'Training mse:', mse_train, 'Testing accuracy:', mse_test,'Contractive Loss:', c_loss)"
   ]
  }
 ],
 "metadata": {
  "kernelspec": {
   "display_name": "Python 3",
   "language": "python",
   "name": "python3"
  },
  "language_info": {
   "codemirror_mode": {
    "name": "ipython",
    "version": 3
   },
   "file_extension": ".py",
   "mimetype": "text/x-python",
   "name": "python",
   "nbconvert_exporter": "python",
   "pygments_lexer": "ipython3",
   "version": "3.6.6"
  }
 },
 "nbformat": 4,
 "nbformat_minor": 2
}
